{
 "cells": [
  {
   "cell_type": "code",
   "execution_count": null,
   "metadata": {},
   "outputs": [],
   "source": [
    "from decimal import Decimal\n",
    "from pool import Pool"
   ]
  },
  {
   "cell_type": "code",
   "execution_count": null,
   "metadata": {},
   "outputs": [],
   "source": [
    "pool = Pool(Decimal(\"0.02\"))\n",
    "\n",
    "lp_amount, _, _ = pool.add_liquidity(Decimal(100000), Decimal(5000))\n",
    "print(lp_amount)\n",
    "pool.price_sqrt\n",
    "pool.swap(Decimal(\"10\"), input_is_x=True)\n",
    "pool.price_sqrt\n",
    "#pool.swap(Decimal(2), input_is_x=False)\n",
    "pool.remove_liquidity(Decimal(\"22360.679774997896964092\"))\n",
    "\n",
    "None"
   ]
  }
 ],
 "metadata": {
  "kernelspec": {
   "display_name": "Python 3",
   "language": "python",
   "name": "python3"
  },
  "language_info": {
   "codemirror_mode": {
    "name": "ipython",
    "version": 3
   },
   "file_extension": ".py",
   "mimetype": "text/x-python",
   "name": "python",
   "nbconvert_exporter": "python",
   "pygments_lexer": "ipython3",
   "version": "3.11.7"
  }
 },
 "nbformat": 4,
 "nbformat_minor": 2
}
